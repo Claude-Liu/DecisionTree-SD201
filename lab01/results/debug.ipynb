{
 "cells": [
  {
   "cell_type": "code",
   "execution_count": 1,
   "metadata": {},
   "outputs": [
    {
     "name": "stdout",
     "output_type": "stream",
     "text": [
      "[  1   3   4   5 200]\n",
      "[0 0 0 1 1]\n"
     ]
    }
   ],
   "source": [
    "import numpy as np\n",
    "feature = np.array([1, 200, 3, 4, 5])\n",
    "labels = np.array([0, 1, 0, 0, 1])\n",
    "sorted_indices = np.argsort(feature)\n",
    "sorted_feature = feature[sorted_indices]\n",
    "sorted_labels = labels[sorted_indices] \n",
    "print(sorted_feature)\n",
    "print(sorted_labels)"
   ]
  },
  {
   "cell_type": "code",
   "execution_count": null,
   "metadata": {},
   "outputs": [],
   "source": []
  }
 ],
 "metadata": {
  "kernelspec": {
   "display_name": "base",
   "language": "python",
   "name": "python3"
  },
  "language_info": {
   "codemirror_mode": {
    "name": "ipython",
    "version": 3
   },
   "file_extension": ".py",
   "mimetype": "text/x-python",
   "name": "python",
   "nbconvert_exporter": "python",
   "pygments_lexer": "ipython3",
   "version": "3.9.7"
  }
 },
 "nbformat": 4,
 "nbformat_minor": 2
}
